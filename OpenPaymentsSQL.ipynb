{
 "cells": [
  {
   "cell_type": "code",
   "execution_count": 17,
   "id": "1e2f9367-abe7-4868-8592-8dbb7d907892",
   "metadata": {},
   "outputs": [
    {
     "data": {
      "text/html": [
       "<h1>Openpayments Dataset SQL Query</h1>"
      ],
      "text/plain": [
       "<IPython.core.display.HTML object>"
      ]
     },
     "metadata": {},
     "output_type": "display_data"
    },
    {
     "data": {
      "application/vnd.jupyter.widget-view+json": {
       "model_id": "21250dae7cfe48f2842469bd6e3f73b9",
       "version_major": 2,
       "version_minor": 0
      },
      "text/plain": [
       "interactive(children=(Textarea(value='', description='SQL:', layout=Layout(height='120px', width='50%'), place…"
      ]
     },
     "metadata": {},
     "output_type": "display_data"
    }
   ],
   "source": [
    "import duckdb\n",
    "from IPython.display import display, HTML\n",
    "import ipywidgets as widgets\n",
    "import polars as pl\n",
    "import pandas as pd\n",
    "\n",
    "pd.set_option('display.max_columns', None)\n",
    "pd.set_option('display.max_colwidth', None)\n",
    "pd.set_option('display.max_rows', None)\n",
    "textwidget = widgets.Textarea(\n",
    "    value='',\n",
    "    placeholder='Type sql',\n",
    "    description='SQL:',\n",
    "    disabled=False,\n",
    "    layout=widgets.Layout(width='50%', height='120px')\n",
    ")\n",
    "radiowidget = widgets.RadioButtons(options=['DuckDb','Pandas'],description='Output:',\n",
    "    layout=widgets.Layout(width='50%', height='80px'))\n",
    "\n",
    "display(HTML(\"<h1>Openpayments Dataset SQL Query</h1>\"))\n",
    "@widgets.interact_manual(sql=textwidget,output=radiowidget)\n",
    "def on_click(sql,output):\n",
    "    with duckdb.connect(\"/home/jovyan/datasets/open_payments/duckdb/openpayments.duckdb\", read_only=True) as conn:\n",
    "        results = conn.sql(sql)\n",
    "        if output.lower() == \"duckdb\":\n",
    "            display(results)\n",
    "        elif output.lower() == \"pandas\":\n",
    "            display(results.to_df())"
   ]
  },
  {
   "cell_type": "code",
   "execution_count": null,
   "id": "187227c1-9a4f-452f-a6f3-441214c478a9",
   "metadata": {},
   "outputs": [],
   "source": []
  }
 ],
 "metadata": {
  "kernelspec": {
   "display_name": "Python 3 (ipykernel)",
   "language": "python",
   "name": "python3"
  },
  "language_info": {
   "codemirror_mode": {
    "name": "ipython",
    "version": 3
   },
   "file_extension": ".py",
   "mimetype": "text/x-python",
   "name": "python",
   "nbconvert_exporter": "python",
   "pygments_lexer": "ipython3",
   "version": "3.11.5"
  }
 },
 "nbformat": 4,
 "nbformat_minor": 5
}
