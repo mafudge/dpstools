{
 "cells": [
  {
   "cell_type": "code",
   "execution_count": 1,
   "id": "eaa4c64c-842b-4477-9967-ae2553954bbb",
   "metadata": {},
   "outputs": [],
   "source": [
    "import duckdb\n",
    "from IPython.display import display, HTML\n",
    "import ipywidgets as widgets\n",
    "import polars as pl\n",
    "import pandas as pd\n",
    "\n",
    "pd.set_option('display.max_columns', None)\n",
    "pd.set_option('display.max_colwidth', None)\n",
    "pd.set_option('display.max_rows', None)\n",
    "conn = duckdb.connect(\"/home/jovyan/datasets/open_payments/duckdb/openpayments.duckdb\", read_only=True)\n",
    "tables = conn.sql(\"show tables\").to_df()['name'].values\n",
    "tables.sort()\n",
    "tableswidget=widgets.Dropdown(\n",
    "    options=tables,\n",
    "    value=tables[0],\n",
    "    description='Dataset:',\n",
    "    disabled=False,\n",
    ")"
   ]
  },
  {
   "cell_type": "code",
   "execution_count": 3,
   "id": "018447f7-eae6-4c0c-b247-1b87ccada37d",
   "metadata": {},
   "outputs": [
    {
     "data": {
      "text/html": [
       "<h1>Openpayments Dataset Extractor</h1>"
      ],
      "text/plain": [
       "<IPython.core.display.HTML object>"
      ]
     },
     "metadata": {},
     "output_type": "display_data"
    },
    {
     "data": {
      "application/vnd.jupyter.widget-view+json": {
       "model_id": "6c9fe53cb0784155ae565174eb6afc7b",
       "version_major": 2,
       "version_minor": 0
      },
      "text/plain": [
       "interactive(children=(Dropdown(description='Dataset:', index=2, options=('covered_recipients', 'deleted_record…"
      ]
     },
     "metadata": {},
     "output_type": "display_data"
    }
   ],
   "source": [
    "display(HTML(\"<h1>Openpayments Dataset Extractor</h1>\"))\n",
    "@widgets.interact(tables=tableswidget)\n",
    "def on_select_table(table=tableswidget):\n",
    "    if table != 'covered_recipients':\n",
    "        years = list(conn.sql(f\"select distinct Program_Year from {table} order by Program_Year desc\").to_df()['Program_Year'].values)\n",
    "        years.insert(0,\"ALL\")\n",
    "        yearwidget = tableswidget=widgets.Dropdown(options=years,value=years[1], description='Choose Year:', disabled=False)\n",
    "        @widgets.interact(year=yearwidget)\n",
    "        def on_select_year(year):\n",
    "            if year == \"ALL\":\n",
    "                rows = conn.sql(f\"select count(*) as row_count from {table}\").to_df()['row_count'].values[0]\n",
    "            else:\n",
    "                rows = conn.sql(f\"select count(*) as row_count from {table} where Program_Year={year}\").to_df()['row_count'].values[0]\n",
    "\n",
    "            rowswidget = widgets.IntSlider( value=rows//2,min=0,max=rows,step=250, description='Rnd Sample:',\n",
    "                    disabled=False,\n",
    "                    continuous_update=False,\n",
    "                    orientation='horizontal',\n",
    "                    readout=True,\n",
    "                    readout_format='d'\n",
    "                )\n",
    "            display(HTML(f\"Rows in Dataset: {rows:,}\"))\n",
    "            @widgets.interact_manual(sample=rowswidget)\n",
    "            def on_click(sample):\n",
    "                display(HTML(f\"<p>dataset:<code>{table}</code> year: <code>{year}</code>, random sample:<code>{sample:,}</code> of <code>{rows:,}</code>\"))\n",
    "                filename = f\"{table}-{year}-sample-{sample}.csv\".lower()\n",
    "                display(HTML(f\"<b>Saving File:</b> <code>{filename}</code>\"))\n",
    "                if year == \"ALL\":\n",
    "                    dataset = conn.sql(f\"select * from (select * from {table}) using sample {sample} rows\")\n",
    "                else:\n",
    "                    dataset = conn.sql(f\"select * from (select * from {table} where Program_Year={year}) using sample {sample} rows\")\n",
    "                dataset.write_csv(filename,header=True)\n",
    "                display(HTML(f\"<b>File Saved!</b>\")) \n",
    "    \n"
   ]
  },
  {
   "cell_type": "code",
   "execution_count": null,
   "id": "700817dd-12f4-4222-bc34-54552144b607",
   "metadata": {},
   "outputs": [],
   "source": []
  },
  {
   "cell_type": "code",
   "execution_count": null,
   "id": "8d0a52a6-e42b-4ea9-bc83-dc4252db9bb5",
   "metadata": {},
   "outputs": [],
   "source": []
  },
  {
   "cell_type": "code",
   "execution_count": null,
   "id": "dcbc2961-ae03-4d46-a7cc-fe8b9bbbd79b",
   "metadata": {},
   "outputs": [],
   "source": [
    "\n",
    "            display(HTML(f\"<h3>Filter {table}</h3>\"))\n",
    "            @widgets.interact_manual(sql=textwidget,output=radiowidget)\n",
    "            def on_click(year=years,sample_size=rowswidget):\n",
    "                print(year,sample_size)\n",
    "            "
   ]
  },
  {
   "cell_type": "code",
   "execution_count": null,
   "id": "3e8e83bd-c982-463e-9dcc-35c308f7e181",
   "metadata": {},
   "outputs": [],
   "source": []
  },
  {
   "cell_type": "code",
   "execution_count": null,
   "id": "88078d11-21a8-4b8d-9497-4821c4ab0ff7",
   "metadata": {},
   "outputs": [],
   "source": []
  },
  {
   "cell_type": "code",
   "execution_count": null,
   "id": "66bc5338-4df4-4bfc-bcc2-0cbb34f87a38",
   "metadata": {},
   "outputs": [],
   "source": []
  },
  {
   "cell_type": "code",
   "execution_count": null,
   "id": "249aae35-5952-4cc1-93a2-c632d6af482f",
   "metadata": {},
   "outputs": [],
   "source": []
  },
  {
   "cell_type": "code",
   "execution_count": null,
   "id": "4ac4579a-5ec3-4d98-bd1e-b2173c9d4b90",
   "metadata": {},
   "outputs": [],
   "source": [
    "textwidget = widgets.Textarea(\n",
    "    value='',\n",
    "    placeholder='Type sql',\n",
    "    description='SQL:',\n",
    "    disabled=False,\n",
    "    layout=widgets.Layout(width='50%', height='120px')\n",
    ")\n",
    "radiowidget = widgets.RadioButtons(options=['DuckDb','Pandas'],description='Output:',\n",
    "    layout=widgets.Layout(width='50%', height='80px'))\n",
    "\n"
   ]
  }
 ],
 "metadata": {
  "kernelspec": {
   "display_name": "Python 3 (ipykernel)",
   "language": "python",
   "name": "python3"
  },
  "language_info": {
   "codemirror_mode": {
    "name": "ipython",
    "version": 3
   },
   "file_extension": ".py",
   "mimetype": "text/x-python",
   "name": "python",
   "nbconvert_exporter": "python",
   "pygments_lexer": "ipython3",
   "version": "3.11.5"
  }
 },
 "nbformat": 4,
 "nbformat_minor": 5
}
