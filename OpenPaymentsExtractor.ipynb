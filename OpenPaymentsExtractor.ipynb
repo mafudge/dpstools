{
 "cells": [
  {
   "cell_type": "code",
   "execution_count": 1,
   "id": "eaa4c64c-842b-4477-9967-ae2553954bbb",
   "metadata": {},
   "outputs": [
    {
     "data": {
      "text/html": [
       "<h1>Openpayments Dataset Extractor</h1>"
      ],
      "text/plain": [
       "<IPython.core.display.HTML object>"
      ]
     },
     "metadata": {},
     "output_type": "display_data"
    },
    {
     "data": {
      "application/vnd.jupyter.widget-view+json": {
       "model_id": "fd1d62c7ce9a40bfbd695d346104eddc",
       "version_major": 2,
       "version_minor": 0
      },
      "text/plain": [
       "interactive(children=(Dropdown(description='Dataset:', options=('covered_recipients', 'deleted_records_details…"
      ]
     },
     "metadata": {},
     "output_type": "display_data"
    }
   ],
   "source": [
    "import duckdb\n",
    "from IPython.display import display, HTML\n",
    "import ipywidgets as widgets\n",
    "import polars as pl\n",
    "import pandas as pd\n",
    "\n",
    "pd.set_option('display.max_columns', None)\n",
    "pd.set_option('display.max_colwidth', None)\n",
    "pd.set_option('display.max_rows', None)\n",
    "conn = duckdb.connect(\"/home/jovyan/datasets/open_payments/duckdb/openpayments.duckdb\", read_only=True)\n",
    "tables = conn.sql(\"show tables\").to_df()['name'].values\n",
    "tables.sort()\n",
    "tableswidget=widgets.Dropdown(\n",
    "    options=tables,\n",
    "    value=tables[0],\n",
    "    description='Dataset:',\n",
    "    disabled=False,\n",
    ")\n",
    "display(HTML(\"<h1>Openpayments Dataset Extractor</h1>\"))\n",
    "@widgets.interact(tables=tableswidget)\n",
    "def on_select_table(table=tableswidget):\n",
    "    if table != 'covered_recipients':\n",
    "        years = list(conn.sql(f\"select distinct Program_Year from {table} order by Program_Year desc\").to_df()['Program_Year'].values)\n",
    "        years.insert(0,\"ALL\")\n",
    "        yearwidget = tableswidget=widgets.Dropdown(options=years,value=years[1], description='Choose Year:', disabled=False)\n",
    "        @widgets.interact(year=yearwidget)\n",
    "        def on_select_year(year):\n",
    "            if year == \"ALL\":\n",
    "                rows = conn.sql(f\"select count(*) as row_count from {table}\").to_df()['row_count'].values[0]\n",
    "            else:\n",
    "                rows = conn.sql(f\"select count(*) as row_count from {table} where Program_Year={year}\").to_df()['row_count'].values[0]\n",
    "\n",
    "            rowswidget = widgets.IntSlider( value=rows//2,min=0,max=rows,step=250, description='Rnd Sample:',\n",
    "                    disabled=False,\n",
    "                    continuous_update=False,\n",
    "                    orientation='horizontal',\n",
    "                    readout=True,\n",
    "                    readout_format='d'\n",
    "                )\n",
    "            display(HTML(f\"Rows in Dataset: {rows:,}\"))\n",
    "            @widgets.interact_manual(sample=rowswidget)\n",
    "            def on_click(sample):\n",
    "                display(HTML(f\"<p>dataset:<code>{table}</code> year: <code>{year}</code>, random sample:<code>{sample:,}</code> of <code>{rows:,}</code>\"))\n",
    "                filename = f\"{table}-{year}-sample-{sample}.csv\".lower()\n",
    "                display(HTML(f\"<b>Saving File:</b> <code>{filename}</code>\"))\n",
    "                if year == \"ALL\":\n",
    "                    dataset = conn.sql(f\"select * from (select * from {table}) using sample {sample} rows\")\n",
    "                else:\n",
    "                    dataset = conn.sql(f\"select * from (select * from {table} where Program_Year={year}) using sample {sample} rows\")\n",
    "                dataset.write_csv(filename,header=True)\n",
    "                display(HTML(f\"<b>File Saved!</b>\")) "
   ]
  },
  {
   "cell_type": "code",
   "execution_count": null,
   "id": "de52114e-a43e-49e5-b485-f5e1f3a20878",
   "metadata": {},
   "outputs": [],
   "source": []
  }
 ],
 "metadata": {
  "kernelspec": {
   "display_name": "Python 3 (ipykernel)",
   "language": "python",
   "name": "python3"
  },
  "language_info": {
   "codemirror_mode": {
    "name": "ipython",
    "version": 3
   },
   "file_extension": ".py",
   "mimetype": "text/x-python",
   "name": "python",
   "nbconvert_exporter": "python",
   "pygments_lexer": "ipython3",
   "version": "3.11.5"
  }
 },
 "nbformat": 4,
 "nbformat_minor": 5
}
